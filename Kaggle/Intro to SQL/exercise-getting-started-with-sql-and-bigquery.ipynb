{
 "cells": [
  {
   "cell_type": "markdown",
   "metadata": {
    "papermill": {
     "duration": 0.010701,
     "end_time": "2021-03-20T23:06:52.279636",
     "exception": false,
     "start_time": "2021-03-20T23:06:52.268935",
     "status": "completed"
    },
    "tags": []
   },
   "source": [
    "**This notebook is an exercise in the [SQL](https://www.kaggle.com/learn/intro-to-sql) course.  You can reference the tutorial at [this link](https://www.kaggle.com/dansbecker/getting-started-with-sql-and-bigquery).**\n",
    "\n",
    "---\n"
   ]
  },
  {
   "cell_type": "markdown",
   "metadata": {
    "papermill": {
     "duration": 0.009333,
     "end_time": "2021-03-20T23:06:52.298803",
     "exception": false,
     "start_time": "2021-03-20T23:06:52.289470",
     "status": "completed"
    },
    "tags": []
   },
   "source": [
    "# Introduction\n",
    "\n",
    "The first test of your new data exploration skills uses data describing crime in the city of Chicago.\n",
    "\n",
    "Before you get started, run the following cell. It sets up the automated feedback system to review your answers."
   ]
  },
  {
   "cell_type": "code",
   "execution_count": 1,
   "metadata": {
    "execution": {
     "iopub.execute_input": "2021-03-20T23:06:52.323688Z",
     "iopub.status.busy": "2021-03-20T23:06:52.323007Z",
     "iopub.status.idle": "2021-03-20T23:06:53.134448Z",
     "shell.execute_reply": "2021-03-20T23:06:53.133803Z"
    },
    "papermill": {
     "duration": 0.826334,
     "end_time": "2021-03-20T23:06:53.134649",
     "exception": false,
     "start_time": "2021-03-20T23:06:52.308315",
     "status": "completed"
    },
    "tags": []
   },
   "outputs": [
    {
     "name": "stdout",
     "output_type": "stream",
     "text": [
      "Using Kaggle's public dataset BigQuery integration.\n",
      "Setup Complete\n"
     ]
    }
   ],
   "source": [
    "# Set up feedack system\n",
    "from learntools.core import binder\n",
    "binder.bind(globals())\n",
    "from learntools.sql.ex1 import *\n",
    "print(\"Setup Complete\")"
   ]
  },
  {
   "cell_type": "markdown",
   "metadata": {
    "papermill": {
     "duration": 0.009905,
     "end_time": "2021-03-20T23:06:53.155559",
     "exception": false,
     "start_time": "2021-03-20T23:06:53.145654",
     "status": "completed"
    },
    "tags": []
   },
   "source": [
    "Use the next code cell to fetch the dataset."
   ]
  },
  {
   "cell_type": "code",
   "execution_count": 2,
   "metadata": {
    "execution": {
     "iopub.execute_input": "2021-03-20T23:06:53.179422Z",
     "iopub.status.busy": "2021-03-20T23:06:53.178753Z",
     "iopub.status.idle": "2021-03-20T23:06:53.472703Z",
     "shell.execute_reply": "2021-03-20T23:06:53.472188Z"
    },
    "papermill": {
     "duration": 0.306994,
     "end_time": "2021-03-20T23:06:53.472863",
     "exception": false,
     "start_time": "2021-03-20T23:06:53.165869",
     "status": "completed"
    },
    "tags": []
   },
   "outputs": [
    {
     "name": "stdout",
     "output_type": "stream",
     "text": [
      "Using Kaggle's public dataset BigQuery integration.\n"
     ]
    }
   ],
   "source": [
    "from google.cloud import bigquery\n",
    "\n",
    "# Create a \"Client\" object\n",
    "client = bigquery.Client()\n",
    "\n",
    "# Construct a reference to the \"chicago_crime\" dataset\n",
    "dataset_ref = client.dataset(\"chicago_crime\", project=\"bigquery-public-data\")\n",
    "\n",
    "# API request - fetch the dataset\n",
    "dataset = client.get_dataset(dataset_ref)"
   ]
  },
  {
   "cell_type": "markdown",
   "metadata": {
    "papermill": {
     "duration": 0.01031,
     "end_time": "2021-03-20T23:06:53.494068",
     "exception": false,
     "start_time": "2021-03-20T23:06:53.483758",
     "status": "completed"
    },
    "tags": []
   },
   "source": [
    "# Exercises\n",
    "\n",
    "### 1) Count tables in the dataset\n",
    "\n",
    "How many tables are in the Chicago Crime dataset?"
   ]
  },
  {
   "cell_type": "code",
   "execution_count": 3,
   "metadata": {
    "execution": {
     "iopub.execute_input": "2021-03-20T23:06:53.519737Z",
     "iopub.status.busy": "2021-03-20T23:06:53.519156Z",
     "iopub.status.idle": "2021-03-20T23:06:53.522360Z",
     "shell.execute_reply": "2021-03-20T23:06:53.521838Z"
    },
    "papermill": {
     "duration": 0.017912,
     "end_time": "2021-03-20T23:06:53.522494",
     "exception": false,
     "start_time": "2021-03-20T23:06:53.504582",
     "status": "completed"
    },
    "tags": []
   },
   "outputs": [],
   "source": [
    "# Write the code you need here to figure out the answer"
   ]
  },
  {
   "cell_type": "code",
   "execution_count": 4,
   "metadata": {
    "execution": {
     "iopub.execute_input": "2021-03-20T23:06:53.550378Z",
     "iopub.status.busy": "2021-03-20T23:06:53.548486Z",
     "iopub.status.idle": "2021-03-20T23:06:53.926846Z",
     "shell.execute_reply": "2021-03-20T23:06:53.927309Z"
    },
    "papermill": {
     "duration": 0.394005,
     "end_time": "2021-03-20T23:06:53.927470",
     "exception": false,
     "start_time": "2021-03-20T23:06:53.533465",
     "status": "completed"
    },
    "tags": []
   },
   "outputs": [
    {
     "data": {
      "application/javascript": [
       "parent.postMessage({\"jupyterEvent\": \"custom.exercise_interaction\", \"data\": {\"outcomeType\": 1, \"valueTowardsCompletion\": 0.3333333333333333, \"interactionType\": 1, \"questionType\": 1, \"questionId\": \"1_CountTables\", \"learnToolsVersion\": \"0.3.4\", \"failureMessage\": \"\", \"exceptionClass\": \"\", \"trace\": \"\"}}, \"*\")"
      ],
      "text/plain": [
       "<IPython.core.display.Javascript object>"
      ]
     },
     "metadata": {},
     "output_type": "display_data"
    },
    {
     "data": {
      "text/markdown": [
       "<span style=\"color:#33cc33\">Correct</span>"
      ],
      "text/plain": [
       "Correct"
      ]
     },
     "metadata": {},
     "output_type": "display_data"
    }
   ],
   "source": [
    "num_tables = len(list(client.list_tables(dataset))) # Store the answer as num_tables and then run this cell\n",
    "\n",
    "# Check your answer\n",
    "q_1.check()"
   ]
  },
  {
   "cell_type": "markdown",
   "metadata": {
    "papermill": {
     "duration": 0.0124,
     "end_time": "2021-03-20T23:06:53.951617",
     "exception": false,
     "start_time": "2021-03-20T23:06:53.939217",
     "status": "completed"
    },
    "tags": []
   },
   "source": [
    "For a hint or the solution, uncomment the appropriate line below."
   ]
  },
  {
   "cell_type": "code",
   "execution_count": 5,
   "metadata": {
    "execution": {
     "iopub.execute_input": "2021-03-20T23:06:53.980292Z",
     "iopub.status.busy": "2021-03-20T23:06:53.979561Z",
     "iopub.status.idle": "2021-03-20T23:06:53.982626Z",
     "shell.execute_reply": "2021-03-20T23:06:53.982042Z"
    },
    "papermill": {
     "duration": 0.018329,
     "end_time": "2021-03-20T23:06:53.982754",
     "exception": false,
     "start_time": "2021-03-20T23:06:53.964425",
     "status": "completed"
    },
    "tags": []
   },
   "outputs": [],
   "source": [
    "#q_1.hint()\n",
    "#q_1.solution()"
   ]
  },
  {
   "cell_type": "markdown",
   "metadata": {
    "papermill": {
     "duration": 0.011458,
     "end_time": "2021-03-20T23:06:54.006299",
     "exception": false,
     "start_time": "2021-03-20T23:06:53.994841",
     "status": "completed"
    },
    "tags": []
   },
   "source": [
    "### 2) Explore the table schema\n",
    "\n",
    "How many columns in the `crime` table have `TIMESTAMP` data?"
   ]
  },
  {
   "cell_type": "code",
   "execution_count": 6,
   "metadata": {
    "execution": {
     "iopub.execute_input": "2021-03-20T23:06:54.033946Z",
     "iopub.status.busy": "2021-03-20T23:06:54.033347Z",
     "iopub.status.idle": "2021-03-20T23:06:54.036782Z",
     "shell.execute_reply": "2021-03-20T23:06:54.036250Z"
    },
    "papermill": {
     "duration": 0.019056,
     "end_time": "2021-03-20T23:06:54.036967",
     "exception": false,
     "start_time": "2021-03-20T23:06:54.017911",
     "status": "completed"
    },
    "tags": []
   },
   "outputs": [],
   "source": [
    "# Write the code to figure out the answer"
   ]
  },
  {
   "cell_type": "code",
   "execution_count": 7,
   "metadata": {
    "execution": {
     "iopub.execute_input": "2021-03-20T23:06:54.067039Z",
     "iopub.status.busy": "2021-03-20T23:06:54.066412Z",
     "iopub.status.idle": "2021-03-20T23:06:54.294560Z",
     "shell.execute_reply": "2021-03-20T23:06:54.293985Z"
    },
    "papermill": {
     "duration": 0.245858,
     "end_time": "2021-03-20T23:06:54.294698",
     "exception": false,
     "start_time": "2021-03-20T23:06:54.048840",
     "status": "completed"
    },
    "tags": []
   },
   "outputs": [
    {
     "data": {
      "application/javascript": [
       "parent.postMessage({\"jupyterEvent\": \"custom.exercise_interaction\", \"data\": {\"outcomeType\": 1, \"valueTowardsCompletion\": 0.3333333333333333, \"interactionType\": 1, \"questionType\": 1, \"questionId\": \"2_CountTimestampFields\", \"learnToolsVersion\": \"0.3.4\", \"failureMessage\": \"\", \"exceptionClass\": \"\", \"trace\": \"\"}}, \"*\")"
      ],
      "text/plain": [
       "<IPython.core.display.Javascript object>"
      ]
     },
     "metadata": {},
     "output_type": "display_data"
    },
    {
     "data": {
      "text/markdown": [
       "<span style=\"color:#33cc33\">Correct</span>"
      ],
      "text/plain": [
       "Correct"
      ]
     },
     "metadata": {},
     "output_type": "display_data"
    }
   ],
   "source": [
    "table_ref = dataset_ref.table('crime')\n",
    "table = client.get_table(table_ref)\n",
    "num_timestamp_fields = sum(table.field_type == \"TIMESTAMP\" for table in table.schema) # Put your answer here\n",
    "\n",
    "# Check your answer\n",
    "q_2.check()"
   ]
  },
  {
   "cell_type": "markdown",
   "metadata": {
    "papermill": {
     "duration": 0.012377,
     "end_time": "2021-03-20T23:06:54.319858",
     "exception": false,
     "start_time": "2021-03-20T23:06:54.307481",
     "status": "completed"
    },
    "tags": []
   },
   "source": [
    "For a hint or the solution, uncomment the appropriate line below."
   ]
  },
  {
   "cell_type": "code",
   "execution_count": 8,
   "metadata": {
    "execution": {
     "iopub.execute_input": "2021-03-20T23:06:54.349286Z",
     "iopub.status.busy": "2021-03-20T23:06:54.348606Z",
     "iopub.status.idle": "2021-03-20T23:06:54.351808Z",
     "shell.execute_reply": "2021-03-20T23:06:54.351253Z"
    },
    "papermill": {
     "duration": 0.019489,
     "end_time": "2021-03-20T23:06:54.351971",
     "exception": false,
     "start_time": "2021-03-20T23:06:54.332482",
     "status": "completed"
    },
    "tags": []
   },
   "outputs": [],
   "source": [
    "#q_2.hint()\n",
    "#q_2.solution()"
   ]
  },
  {
   "cell_type": "markdown",
   "metadata": {
    "papermill": {
     "duration": 0.013729,
     "end_time": "2021-03-20T23:06:54.379003",
     "exception": false,
     "start_time": "2021-03-20T23:06:54.365274",
     "status": "completed"
    },
    "tags": []
   },
   "source": [
    "### 3) Create a crime map\n",
    "\n",
    "If you wanted to create a map with a dot at the location of each crime, what are the names of the two fields you likely need to pull out of the `crime` table to plot the crimes on a map?"
   ]
  },
  {
   "cell_type": "code",
   "execution_count": 9,
   "metadata": {
    "execution": {
     "iopub.execute_input": "2021-03-20T23:06:54.410147Z",
     "iopub.status.busy": "2021-03-20T23:06:54.409323Z",
     "iopub.status.idle": "2021-03-20T23:06:54.412381Z",
     "shell.execute_reply": "2021-03-20T23:06:54.411711Z"
    },
    "papermill": {
     "duration": 0.020123,
     "end_time": "2021-03-20T23:06:54.412513",
     "exception": false,
     "start_time": "2021-03-20T23:06:54.392390",
     "status": "completed"
    },
    "tags": []
   },
   "outputs": [],
   "source": [
    "# Write the code here to explore the data so you can find the answer"
   ]
  },
  {
   "cell_type": "code",
   "execution_count": 10,
   "metadata": {
    "execution": {
     "iopub.execute_input": "2021-03-20T23:06:54.444127Z",
     "iopub.status.busy": "2021-03-20T23:06:54.443496Z",
     "iopub.status.idle": "2021-03-20T23:06:54.447230Z",
     "shell.execute_reply": "2021-03-20T23:06:54.447672Z"
    },
    "papermill": {
     "duration": 0.022172,
     "end_time": "2021-03-20T23:06:54.447840",
     "exception": false,
     "start_time": "2021-03-20T23:06:54.425668",
     "status": "completed"
    },
    "tags": []
   },
   "outputs": [
    {
     "data": {
      "application/javascript": [
       "parent.postMessage({\"jupyterEvent\": \"custom.exercise_interaction\", \"data\": {\"outcomeType\": 1, \"valueTowardsCompletion\": 0.3333333333333333, \"interactionType\": 1, \"questionType\": 2, \"questionId\": \"3_IdentifyFieldsForPlotting\", \"learnToolsVersion\": \"0.3.4\", \"failureMessage\": \"\", \"exceptionClass\": \"\", \"trace\": \"\"}}, \"*\")"
      ],
      "text/plain": [
       "<IPython.core.display.Javascript object>"
      ]
     },
     "metadata": {},
     "output_type": "display_data"
    },
    {
     "data": {
      "text/markdown": [
       "<span style=\"color:#33cc33\">Correct</span>"
      ],
      "text/plain": [
       "Correct"
      ]
     },
     "metadata": {},
     "output_type": "display_data"
    }
   ],
   "source": [
    "fields_for_plotting = [\"latitude\", \"longitude\"] # Put your answers here\n",
    "\n",
    "# Check your answer\n",
    "q_3.check()"
   ]
  },
  {
   "cell_type": "markdown",
   "metadata": {
    "papermill": {
     "duration": 0.013768,
     "end_time": "2021-03-20T23:06:54.475538",
     "exception": false,
     "start_time": "2021-03-20T23:06:54.461770",
     "status": "completed"
    },
    "tags": []
   },
   "source": [
    "For a hint or the solution, uncomment the appropriate line below."
   ]
  },
  {
   "cell_type": "code",
   "execution_count": 11,
   "metadata": {
    "execution": {
     "iopub.execute_input": "2021-03-20T23:06:54.506946Z",
     "iopub.status.busy": "2021-03-20T23:06:54.506186Z",
     "iopub.status.idle": "2021-03-20T23:06:54.509369Z",
     "shell.execute_reply": "2021-03-20T23:06:54.509746Z"
    },
    "papermill": {
     "duration": 0.020265,
     "end_time": "2021-03-20T23:06:54.509934",
     "exception": false,
     "start_time": "2021-03-20T23:06:54.489669",
     "status": "completed"
    },
    "tags": []
   },
   "outputs": [],
   "source": [
    "#q_3.hint()\n",
    "#q_3.solution()"
   ]
  },
  {
   "cell_type": "markdown",
   "metadata": {
    "papermill": {
     "duration": 0.013523,
     "end_time": "2021-03-20T23:06:54.537538",
     "exception": false,
     "start_time": "2021-03-20T23:06:54.524015",
     "status": "completed"
    },
    "tags": []
   },
   "source": [
    "Thinking about the question above, there are a few columns that appear to have geographic data. Look at a few values (with the `list_rows()` command) to see if you can determine their relationship.  Two columns will still be hard to interpret. But it should be obvious how the `location` column relates to `latitude` and `longitude`."
   ]
  },
  {
   "cell_type": "code",
   "execution_count": 12,
   "metadata": {
    "execution": {
     "iopub.execute_input": "2021-03-20T23:06:54.569481Z",
     "iopub.status.busy": "2021-03-20T23:06:54.568789Z",
     "iopub.status.idle": "2021-03-20T23:06:54.570671Z",
     "shell.execute_reply": "2021-03-20T23:06:54.571127Z"
    },
    "papermill": {
     "duration": 0.01993,
     "end_time": "2021-03-20T23:06:54.571284",
     "exception": false,
     "start_time": "2021-03-20T23:06:54.551354",
     "status": "completed"
    },
    "tags": []
   },
   "outputs": [],
   "source": [
    "# Scratch space for your code"
   ]
  },
  {
   "cell_type": "markdown",
   "metadata": {
    "papermill": {
     "duration": 0.013529,
     "end_time": "2021-03-20T23:06:54.598951",
     "exception": false,
     "start_time": "2021-03-20T23:06:54.585422",
     "status": "completed"
    },
    "tags": []
   },
   "source": [
    "# Keep going\n",
    "\n",
    "You've looked at the schema, but you haven't yet done anything exciting with the data itself. Things get more interesting when you get to the data, so keep going to **[write your first SQL query](https://www.kaggle.com/dansbecker/select-from-where).**"
   ]
  },
  {
   "cell_type": "markdown",
   "metadata": {
    "papermill": {
     "duration": 0.019619,
     "end_time": "2021-03-20T23:06:54.632345",
     "exception": false,
     "start_time": "2021-03-20T23:06:54.612726",
     "status": "completed"
    },
    "tags": []
   },
   "source": [
    "---\n",
    "\n",
    "\n",
    "\n",
    "\n",
    "*Have questions or comments? Visit the [Learn Discussion forum](https://www.kaggle.com/learn-forum/161314) to chat with other Learners.*"
   ]
  }
 ],
 "metadata": {
  "kernelspec": {
   "display_name": "Python 3",
   "language": "python",
   "name": "python3"
  },
  "language_info": {
   "codemirror_mode": {
    "name": "ipython",
    "version": 3
   },
   "file_extension": ".py",
   "mimetype": "text/x-python",
   "name": "python",
   "nbconvert_exporter": "python",
   "pygments_lexer": "ipython3",
   "version": "3.7.9"
  },
  "papermill": {
   "default_parameters": {},
   "duration": 8.275944,
   "end_time": "2021-03-20T23:06:55.155991",
   "environment_variables": {},
   "exception": null,
   "input_path": "__notebook__.ipynb",
   "output_path": "__notebook__.ipynb",
   "parameters": {},
   "start_time": "2021-03-20T23:06:46.880047",
   "version": "2.2.2"
  }
 },
 "nbformat": 4,
 "nbformat_minor": 4
}
