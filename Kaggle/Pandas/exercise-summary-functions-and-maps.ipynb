{
 "cells": [
  {
   "cell_type": "markdown",
   "id": "interstate-cedar",
   "metadata": {
    "papermill": {
     "duration": 0.018,
     "end_time": "2021-03-17T07:25:07.787358",
     "exception": false,
     "start_time": "2021-03-17T07:25:07.769358",
     "status": "completed"
    },
    "tags": []
   },
   "source": [
    "**This notebook is an exercise in the [Pandas](https://www.kaggle.com/learn/pandas) course.  You can reference the tutorial at [this link](https://www.kaggle.com/residentmario/summary-functions-and-maps).**\n",
    "\n",
    "---\n"
   ]
  },
  {
   "cell_type": "markdown",
   "id": "blind-memorial",
   "metadata": {
    "papermill": {
     "duration": 0.034565,
     "end_time": "2021-03-17T07:25:07.838342",
     "exception": false,
     "start_time": "2021-03-17T07:25:07.803777",
     "status": "completed"
    },
    "tags": []
   },
   "source": [
    "# Introduction\n",
    "\n",
    "Now you are ready to get a deeper understanding of your data.\n",
    "\n",
    "Run the following cell to load your data and some utility functions (including code to check your answers)."
   ]
  },
  {
   "cell_type": "code",
   "execution_count": 1,
   "id": "accepted-township",
   "metadata": {
    "execution": {
     "iopub.execute_input": "2021-03-17T07:25:07.875284Z",
     "iopub.status.busy": "2021-03-17T07:25:07.874098Z",
     "iopub.status.idle": "2021-03-17T07:25:15.952324Z",
     "shell.execute_reply": "2021-03-17T07:25:15.951577Z"
    },
    "papermill": {
     "duration": 8.097705,
     "end_time": "2021-03-17T07:25:15.952497",
     "exception": false,
     "start_time": "2021-03-17T07:25:07.854792",
     "status": "completed"
    },
    "tags": []
   },
   "outputs": [
    {
     "name": "stdout",
     "output_type": "stream",
     "text": [
      "Setup complete.\n"
     ]
    },
    {
     "data": {
      "text/html": [
       "<div>\n",
       "<style scoped>\n",
       "    .dataframe tbody tr th:only-of-type {\n",
       "        vertical-align: middle;\n",
       "    }\n",
       "\n",
       "    .dataframe tbody tr th {\n",
       "        vertical-align: top;\n",
       "    }\n",
       "\n",
       "    .dataframe thead th {\n",
       "        text-align: right;\n",
       "    }\n",
       "</style>\n",
       "<table border=\"1\" class=\"dataframe\">\n",
       "  <thead>\n",
       "    <tr style=\"text-align: right;\">\n",
       "      <th></th>\n",
       "      <th>country</th>\n",
       "      <th>description</th>\n",
       "      <th>designation</th>\n",
       "      <th>points</th>\n",
       "      <th>price</th>\n",
       "      <th>province</th>\n",
       "      <th>region_1</th>\n",
       "      <th>region_2</th>\n",
       "      <th>taster_name</th>\n",
       "      <th>taster_twitter_handle</th>\n",
       "      <th>title</th>\n",
       "      <th>variety</th>\n",
       "      <th>winery</th>\n",
       "    </tr>\n",
       "  </thead>\n",
       "  <tbody>\n",
       "    <tr>\n",
       "      <th>0</th>\n",
       "      <td>Italy</td>\n",
       "      <td>Aromas include tropical fruit, broom, brimston...</td>\n",
       "      <td>Vulkà Bianco</td>\n",
       "      <td>87</td>\n",
       "      <td>NaN</td>\n",
       "      <td>Sicily &amp; Sardinia</td>\n",
       "      <td>Etna</td>\n",
       "      <td>NaN</td>\n",
       "      <td>Kerin O’Keefe</td>\n",
       "      <td>@kerinokeefe</td>\n",
       "      <td>Nicosia 2013 Vulkà Bianco  (Etna)</td>\n",
       "      <td>White Blend</td>\n",
       "      <td>Nicosia</td>\n",
       "    </tr>\n",
       "    <tr>\n",
       "      <th>1</th>\n",
       "      <td>Portugal</td>\n",
       "      <td>This is ripe and fruity, a wine that is smooth...</td>\n",
       "      <td>Avidagos</td>\n",
       "      <td>87</td>\n",
       "      <td>15.0</td>\n",
       "      <td>Douro</td>\n",
       "      <td>NaN</td>\n",
       "      <td>NaN</td>\n",
       "      <td>Roger Voss</td>\n",
       "      <td>@vossroger</td>\n",
       "      <td>Quinta dos Avidagos 2011 Avidagos Red (Douro)</td>\n",
       "      <td>Portuguese Red</td>\n",
       "      <td>Quinta dos Avidagos</td>\n",
       "    </tr>\n",
       "    <tr>\n",
       "      <th>2</th>\n",
       "      <td>US</td>\n",
       "      <td>Tart and snappy, the flavors of lime flesh and...</td>\n",
       "      <td>NaN</td>\n",
       "      <td>87</td>\n",
       "      <td>14.0</td>\n",
       "      <td>Oregon</td>\n",
       "      <td>Willamette Valley</td>\n",
       "      <td>Willamette Valley</td>\n",
       "      <td>Paul Gregutt</td>\n",
       "      <td>@paulgwine</td>\n",
       "      <td>Rainstorm 2013 Pinot Gris (Willamette Valley)</td>\n",
       "      <td>Pinot Gris</td>\n",
       "      <td>Rainstorm</td>\n",
       "    </tr>\n",
       "    <tr>\n",
       "      <th>3</th>\n",
       "      <td>US</td>\n",
       "      <td>Pineapple rind, lemon pith and orange blossom ...</td>\n",
       "      <td>Reserve Late Harvest</td>\n",
       "      <td>87</td>\n",
       "      <td>13.0</td>\n",
       "      <td>Michigan</td>\n",
       "      <td>Lake Michigan Shore</td>\n",
       "      <td>NaN</td>\n",
       "      <td>Alexander Peartree</td>\n",
       "      <td>NaN</td>\n",
       "      <td>St. Julian 2013 Reserve Late Harvest Riesling ...</td>\n",
       "      <td>Riesling</td>\n",
       "      <td>St. Julian</td>\n",
       "    </tr>\n",
       "    <tr>\n",
       "      <th>4</th>\n",
       "      <td>US</td>\n",
       "      <td>Much like the regular bottling from 2012, this...</td>\n",
       "      <td>Vintner's Reserve Wild Child Block</td>\n",
       "      <td>87</td>\n",
       "      <td>65.0</td>\n",
       "      <td>Oregon</td>\n",
       "      <td>Willamette Valley</td>\n",
       "      <td>Willamette Valley</td>\n",
       "      <td>Paul Gregutt</td>\n",
       "      <td>@paulgwine</td>\n",
       "      <td>Sweet Cheeks 2012 Vintner's Reserve Wild Child...</td>\n",
       "      <td>Pinot Noir</td>\n",
       "      <td>Sweet Cheeks</td>\n",
       "    </tr>\n",
       "  </tbody>\n",
       "</table>\n",
       "</div>"
      ],
      "text/plain": [
       "    country                                        description  \\\n",
       "0     Italy  Aromas include tropical fruit, broom, brimston...   \n",
       "1  Portugal  This is ripe and fruity, a wine that is smooth...   \n",
       "2        US  Tart and snappy, the flavors of lime flesh and...   \n",
       "3        US  Pineapple rind, lemon pith and orange blossom ...   \n",
       "4        US  Much like the regular bottling from 2012, this...   \n",
       "\n",
       "                          designation  points  price           province  \\\n",
       "0                        Vulkà Bianco      87    NaN  Sicily & Sardinia   \n",
       "1                            Avidagos      87   15.0              Douro   \n",
       "2                                 NaN      87   14.0             Oregon   \n",
       "3                Reserve Late Harvest      87   13.0           Michigan   \n",
       "4  Vintner's Reserve Wild Child Block      87   65.0             Oregon   \n",
       "\n",
       "              region_1           region_2         taster_name  \\\n",
       "0                 Etna                NaN       Kerin O’Keefe   \n",
       "1                  NaN                NaN          Roger Voss   \n",
       "2    Willamette Valley  Willamette Valley        Paul Gregutt   \n",
       "3  Lake Michigan Shore                NaN  Alexander Peartree   \n",
       "4    Willamette Valley  Willamette Valley        Paul Gregutt   \n",
       "\n",
       "  taster_twitter_handle                                              title  \\\n",
       "0          @kerinokeefe                  Nicosia 2013 Vulkà Bianco  (Etna)   \n",
       "1            @vossroger      Quinta dos Avidagos 2011 Avidagos Red (Douro)   \n",
       "2           @paulgwine       Rainstorm 2013 Pinot Gris (Willamette Valley)   \n",
       "3                   NaN  St. Julian 2013 Reserve Late Harvest Riesling ...   \n",
       "4           @paulgwine   Sweet Cheeks 2012 Vintner's Reserve Wild Child...   \n",
       "\n",
       "          variety               winery  \n",
       "0     White Blend              Nicosia  \n",
       "1  Portuguese Red  Quinta dos Avidagos  \n",
       "2      Pinot Gris            Rainstorm  \n",
       "3        Riesling           St. Julian  \n",
       "4      Pinot Noir         Sweet Cheeks  "
      ]
     },
     "execution_count": 1,
     "metadata": {},
     "output_type": "execute_result"
    }
   ],
   "source": [
    "import pandas as pd\n",
    "pd.set_option(\"display.max_rows\", 5)\n",
    "reviews = pd.read_csv(\"../input/wine-reviews/winemag-data-130k-v2.csv\", index_col=0)\n",
    "\n",
    "from learntools.core import binder; binder.bind(globals())\n",
    "from learntools.pandas.summary_functions_and_maps import *\n",
    "print(\"Setup complete.\")\n",
    "\n",
    "reviews.head()"
   ]
  },
  {
   "cell_type": "markdown",
   "id": "geological-immunology",
   "metadata": {
    "papermill": {
     "duration": 0.019439,
     "end_time": "2021-03-17T07:25:15.991925",
     "exception": false,
     "start_time": "2021-03-17T07:25:15.972486",
     "status": "completed"
    },
    "tags": []
   },
   "source": [
    "# Exercises"
   ]
  },
  {
   "cell_type": "markdown",
   "id": "occasional-james",
   "metadata": {
    "papermill": {
     "duration": 0.016866,
     "end_time": "2021-03-17T07:25:16.026230",
     "exception": false,
     "start_time": "2021-03-17T07:25:16.009364",
     "status": "completed"
    },
    "tags": []
   },
   "source": [
    "## 1.\n",
    "\n",
    "What is the median of the `points` column in the `reviews` DataFrame?"
   ]
  },
  {
   "cell_type": "code",
   "execution_count": 2,
   "id": "heated-portuguese",
   "metadata": {
    "execution": {
     "iopub.execute_input": "2021-03-17T07:25:16.067301Z",
     "iopub.status.busy": "2021-03-17T07:25:16.066409Z",
     "iopub.status.idle": "2021-03-17T07:25:16.073795Z",
     "shell.execute_reply": "2021-03-17T07:25:16.073314Z"
    },
    "papermill": {
     "duration": 0.029272,
     "end_time": "2021-03-17T07:25:16.073930",
     "exception": false,
     "start_time": "2021-03-17T07:25:16.044658",
     "status": "completed"
    },
    "tags": []
   },
   "outputs": [
    {
     "data": {
      "application/javascript": [
       "parent.postMessage({\"jupyterEvent\": \"custom.exercise_interaction\", \"data\": {\"outcomeType\": 1, \"valueTowardsCompletion\": 0.14285714285714285, \"interactionType\": 1, \"questionType\": 1, \"questionId\": \"1_MedianPoints\", \"learnToolsVersion\": \"0.3.4\", \"failureMessage\": \"\", \"exceptionClass\": \"\", \"trace\": \"\"}}, \"*\")"
      ],
      "text/plain": [
       "<IPython.core.display.Javascript object>"
      ]
     },
     "metadata": {},
     "output_type": "display_data"
    },
    {
     "data": {
      "text/markdown": [
       "<span style=\"color:#33cc33\">Correct</span>"
      ],
      "text/plain": [
       "Correct"
      ]
     },
     "metadata": {},
     "output_type": "display_data"
    }
   ],
   "source": [
    "median_points = reviews.points.median()\n",
    "\n",
    "# Check your answer\n",
    "q1.check()"
   ]
  },
  {
   "cell_type": "code",
   "execution_count": 3,
   "id": "mineral-cherry",
   "metadata": {
    "execution": {
     "iopub.execute_input": "2021-03-17T07:25:16.115164Z",
     "iopub.status.busy": "2021-03-17T07:25:16.114494Z",
     "iopub.status.idle": "2021-03-17T07:25:16.117136Z",
     "shell.execute_reply": "2021-03-17T07:25:16.117603Z"
    },
    "papermill": {
     "duration": 0.025448,
     "end_time": "2021-03-17T07:25:16.117770",
     "exception": false,
     "start_time": "2021-03-17T07:25:16.092322",
     "status": "completed"
    },
    "tags": []
   },
   "outputs": [],
   "source": [
    "#q1.hint()\n",
    "#q1.solution()"
   ]
  },
  {
   "cell_type": "markdown",
   "id": "natural-broad",
   "metadata": {
    "papermill": {
     "duration": 0.018039,
     "end_time": "2021-03-17T07:25:16.154278",
     "exception": false,
     "start_time": "2021-03-17T07:25:16.136239",
     "status": "completed"
    },
    "tags": []
   },
   "source": [
    "## 2. \n",
    "What countries are represented in the dataset? (Your answer should not include any duplicates.)"
   ]
  },
  {
   "cell_type": "code",
   "execution_count": 4,
   "id": "combined-cannon",
   "metadata": {
    "execution": {
     "iopub.execute_input": "2021-03-17T07:25:16.194471Z",
     "iopub.status.busy": "2021-03-17T07:25:16.193764Z",
     "iopub.status.idle": "2021-03-17T07:25:16.214728Z",
     "shell.execute_reply": "2021-03-17T07:25:16.214189Z"
    },
    "papermill": {
     "duration": 0.042151,
     "end_time": "2021-03-17T07:25:16.214863",
     "exception": false,
     "start_time": "2021-03-17T07:25:16.172712",
     "status": "completed"
    },
    "tags": []
   },
   "outputs": [
    {
     "data": {
      "application/javascript": [
       "parent.postMessage({\"jupyterEvent\": \"custom.exercise_interaction\", \"data\": {\"outcomeType\": 1, \"valueTowardsCompletion\": 0.14285714285714285, \"interactionType\": 1, \"questionType\": 2, \"questionId\": \"2_UniqueCountries\", \"learnToolsVersion\": \"0.3.4\", \"failureMessage\": \"\", \"exceptionClass\": \"\", \"trace\": \"\"}}, \"*\")"
      ],
      "text/plain": [
       "<IPython.core.display.Javascript object>"
      ]
     },
     "metadata": {},
     "output_type": "display_data"
    },
    {
     "data": {
      "text/markdown": [
       "<span style=\"color:#33cc33\">Correct</span>"
      ],
      "text/plain": [
       "Correct"
      ]
     },
     "metadata": {},
     "output_type": "display_data"
    }
   ],
   "source": [
    "countries = reviews.country.unique()\n",
    "\n",
    "# Check your answer\n",
    "q2.check()"
   ]
  },
  {
   "cell_type": "code",
   "execution_count": 5,
   "id": "material-synthetic",
   "metadata": {
    "execution": {
     "iopub.execute_input": "2021-03-17T07:25:16.259139Z",
     "iopub.status.busy": "2021-03-17T07:25:16.258452Z",
     "iopub.status.idle": "2021-03-17T07:25:16.261781Z",
     "shell.execute_reply": "2021-03-17T07:25:16.261240Z"
    },
    "papermill": {
     "duration": 0.027196,
     "end_time": "2021-03-17T07:25:16.261933",
     "exception": false,
     "start_time": "2021-03-17T07:25:16.234737",
     "status": "completed"
    },
    "tags": []
   },
   "outputs": [],
   "source": [
    "#q2.hint()\n",
    "#q2.solution()"
   ]
  },
  {
   "cell_type": "markdown",
   "id": "helpful-turkey",
   "metadata": {
    "papermill": {
     "duration": 0.01995,
     "end_time": "2021-03-17T07:25:16.302584",
     "exception": false,
     "start_time": "2021-03-17T07:25:16.282634",
     "status": "completed"
    },
    "tags": []
   },
   "source": [
    "## 3.\n",
    "How often does each country appear in the dataset? Create a Series `reviews_per_country` mapping countries to the count of reviews of wines from that country."
   ]
  },
  {
   "cell_type": "code",
   "execution_count": 6,
   "id": "fatal-paradise",
   "metadata": {
    "execution": {
     "iopub.execute_input": "2021-03-17T07:25:16.349080Z",
     "iopub.status.busy": "2021-03-17T07:25:16.348319Z",
     "iopub.status.idle": "2021-03-17T07:25:16.353175Z",
     "shell.execute_reply": "2021-03-17T07:25:16.353678Z"
    },
    "papermill": {
     "duration": 0.031111,
     "end_time": "2021-03-17T07:25:16.353840",
     "exception": false,
     "start_time": "2021-03-17T07:25:16.322729",
     "status": "completed"
    },
    "tags": []
   },
   "outputs": [
    {
     "data": {
      "application/javascript": [
       "parent.postMessage({\"jupyterEvent\": \"custom.exercise_interaction\", \"data\": {\"outcomeType\": 4, \"interactionType\": 1, \"questionType\": 1, \"questionId\": \"3_ReviewsPerCountry\", \"learnToolsVersion\": \"0.3.4\", \"valueTowardsCompletion\": 0.0, \"failureMessage\": \"\", \"exceptionClass\": \"\", \"trace\": \"\"}}, \"*\")"
      ],
      "text/plain": [
       "<IPython.core.display.Javascript object>"
      ]
     },
     "metadata": {},
     "output_type": "display_data"
    },
    {
     "data": {
      "text/markdown": [
       "<span style=\"color:#ccaa33\">Check:</span> When you've updated the starter code, `check()` will tell you whether your code is correct. You need to update the code that creates variable `reviews_per_country`"
      ],
      "text/plain": [
       "Check: When you've updated the starter code, `check()` will tell you whether your code is correct. You need to update the code that creates variable `reviews_per_country`"
      ]
     },
     "metadata": {},
     "output_type": "display_data"
    }
   ],
   "source": [
    "reviews_per_country = ____\n",
    "\n",
    "# Check your answer\n",
    "q3.check()"
   ]
  },
  {
   "cell_type": "code",
   "execution_count": 7,
   "id": "monetary-spread",
   "metadata": {
    "execution": {
     "iopub.execute_input": "2021-03-17T07:25:16.399422Z",
     "iopub.status.busy": "2021-03-17T07:25:16.398777Z",
     "iopub.status.idle": "2021-03-17T07:25:16.401875Z",
     "shell.execute_reply": "2021-03-17T07:25:16.402414Z"
    },
    "papermill": {
     "duration": 0.027565,
     "end_time": "2021-03-17T07:25:16.402600",
     "exception": false,
     "start_time": "2021-03-17T07:25:16.375035",
     "status": "completed"
    },
    "tags": []
   },
   "outputs": [],
   "source": [
    "#q3.hint()\n",
    "#q3.solution()"
   ]
  },
  {
   "cell_type": "markdown",
   "id": "plain-captain",
   "metadata": {
    "papermill": {
     "duration": 0.021549,
     "end_time": "2021-03-17T07:25:16.446189",
     "exception": false,
     "start_time": "2021-03-17T07:25:16.424640",
     "status": "completed"
    },
    "tags": []
   },
   "source": [
    "## 4.\n",
    "Create variable `centered_price` containing a version of the `price` column with the mean price subtracted.\n",
    "\n",
    "(Note: this 'centering' transformation is a common preprocessing step before applying various machine learning algorithms.) "
   ]
  },
  {
   "cell_type": "code",
   "execution_count": 8,
   "id": "partial-tampa",
   "metadata": {
    "execution": {
     "iopub.execute_input": "2021-03-17T07:25:16.491897Z",
     "iopub.status.busy": "2021-03-17T07:25:16.491209Z",
     "iopub.status.idle": "2021-03-17T07:25:16.496979Z",
     "shell.execute_reply": "2021-03-17T07:25:16.497460Z"
    },
    "papermill": {
     "duration": 0.030304,
     "end_time": "2021-03-17T07:25:16.497702",
     "exception": false,
     "start_time": "2021-03-17T07:25:16.467398",
     "status": "completed"
    },
    "tags": []
   },
   "outputs": [
    {
     "data": {
      "application/javascript": [
       "parent.postMessage({\"jupyterEvent\": \"custom.exercise_interaction\", \"data\": {\"outcomeType\": 4, \"interactionType\": 1, \"questionType\": 1, \"questionId\": \"4_CenteredPrice\", \"learnToolsVersion\": \"0.3.4\", \"valueTowardsCompletion\": 0.0, \"failureMessage\": \"\", \"exceptionClass\": \"\", \"trace\": \"\"}}, \"*\")"
      ],
      "text/plain": [
       "<IPython.core.display.Javascript object>"
      ]
     },
     "metadata": {},
     "output_type": "display_data"
    },
    {
     "data": {
      "text/markdown": [
       "<span style=\"color:#ccaa33\">Check:</span> When you've updated the starter code, `check()` will tell you whether your code is correct. You need to update the code that creates variable `centered_price`"
      ],
      "text/plain": [
       "Check: When you've updated the starter code, `check()` will tell you whether your code is correct. You need to update the code that creates variable `centered_price`"
      ]
     },
     "metadata": {},
     "output_type": "display_data"
    }
   ],
   "source": [
    "centered_price = ____\n",
    "\n",
    "# Check your answer\n",
    "q4.check()"
   ]
  },
  {
   "cell_type": "code",
   "execution_count": 9,
   "id": "complimentary-music",
   "metadata": {
    "execution": {
     "iopub.execute_input": "2021-03-17T07:25:16.545933Z",
     "iopub.status.busy": "2021-03-17T07:25:16.545262Z",
     "iopub.status.idle": "2021-03-17T07:25:16.548154Z",
     "shell.execute_reply": "2021-03-17T07:25:16.548657Z"
    },
    "papermill": {
     "duration": 0.028731,
     "end_time": "2021-03-17T07:25:16.548819",
     "exception": false,
     "start_time": "2021-03-17T07:25:16.520088",
     "status": "completed"
    },
    "tags": []
   },
   "outputs": [],
   "source": [
    "#q4.hint()\n",
    "#q4.solution()"
   ]
  },
  {
   "cell_type": "markdown",
   "id": "fitting-terrain",
   "metadata": {
    "papermill": {
     "duration": 0.022362,
     "end_time": "2021-03-17T07:25:16.593750",
     "exception": false,
     "start_time": "2021-03-17T07:25:16.571388",
     "status": "completed"
    },
    "tags": []
   },
   "source": [
    "## 5.\n",
    "I'm an economical wine buyer. Which wine is the \"best bargain\"? Create a variable `bargain_wine` with the title of the wine with the highest points-to-price ratio in the dataset."
   ]
  },
  {
   "cell_type": "code",
   "execution_count": 10,
   "id": "controlled-combine",
   "metadata": {
    "execution": {
     "iopub.execute_input": "2021-03-17T07:25:16.645027Z",
     "iopub.status.busy": "2021-03-17T07:25:16.644056Z",
     "iopub.status.idle": "2021-03-17T07:25:16.649607Z",
     "shell.execute_reply": "2021-03-17T07:25:16.650069Z"
    },
    "papermill": {
     "duration": 0.033966,
     "end_time": "2021-03-17T07:25:16.650246",
     "exception": false,
     "start_time": "2021-03-17T07:25:16.616280",
     "status": "completed"
    },
    "tags": []
   },
   "outputs": [
    {
     "data": {
      "application/javascript": [
       "parent.postMessage({\"jupyterEvent\": \"custom.exercise_interaction\", \"data\": {\"outcomeType\": 4, \"interactionType\": 1, \"questionType\": 2, \"questionId\": \"5_BargainWine\", \"learnToolsVersion\": \"0.3.4\", \"valueTowardsCompletion\": 0.0, \"failureMessage\": \"\", \"exceptionClass\": \"\", \"trace\": \"\"}}, \"*\")"
      ],
      "text/plain": [
       "<IPython.core.display.Javascript object>"
      ]
     },
     "metadata": {},
     "output_type": "display_data"
    },
    {
     "data": {
      "text/markdown": [
       "<span style=\"color:#ccaa33\">Check:</span> When you've updated the starter code, `check()` will tell you whether your code is correct. You need to update the code that creates variable `bargain_wine`"
      ],
      "text/plain": [
       "Check: When you've updated the starter code, `check()` will tell you whether your code is correct. You need to update the code that creates variable `bargain_wine`"
      ]
     },
     "metadata": {},
     "output_type": "display_data"
    }
   ],
   "source": [
    "bargain_wine = ____\n",
    "\n",
    "# Check your answer\n",
    "q5.check()"
   ]
  },
  {
   "cell_type": "code",
   "execution_count": 11,
   "id": "assured-relaxation",
   "metadata": {
    "execution": {
     "iopub.execute_input": "2021-03-17T07:25:16.701605Z",
     "iopub.status.busy": "2021-03-17T07:25:16.700954Z",
     "iopub.status.idle": "2021-03-17T07:25:16.703827Z",
     "shell.execute_reply": "2021-03-17T07:25:16.703278Z"
    },
    "papermill": {
     "duration": 0.030238,
     "end_time": "2021-03-17T07:25:16.704018",
     "exception": false,
     "start_time": "2021-03-17T07:25:16.673780",
     "status": "completed"
    },
    "tags": []
   },
   "outputs": [],
   "source": [
    "#q5.hint()\n",
    "#q5.solution()"
   ]
  },
  {
   "cell_type": "markdown",
   "id": "variable-child",
   "metadata": {
    "papermill": {
     "duration": 0.023342,
     "end_time": "2021-03-17T07:25:16.751220",
     "exception": false,
     "start_time": "2021-03-17T07:25:16.727878",
     "status": "completed"
    },
    "tags": []
   },
   "source": [
    "## 6.\n",
    "There are only so many words you can use when describing a bottle of wine. Is a wine more likely to be \"tropical\" or \"fruity\"? Create a Series `descriptor_counts` counting how many times each of these two words appears in the `description` column in the dataset."
   ]
  },
  {
   "cell_type": "code",
   "execution_count": 12,
   "id": "quantitative-slope",
   "metadata": {
    "execution": {
     "iopub.execute_input": "2021-03-17T07:25:16.802175Z",
     "iopub.status.busy": "2021-03-17T07:25:16.801494Z",
     "iopub.status.idle": "2021-03-17T07:25:16.808893Z",
     "shell.execute_reply": "2021-03-17T07:25:16.809398Z"
    },
    "papermill": {
     "duration": 0.034556,
     "end_time": "2021-03-17T07:25:16.809568",
     "exception": false,
     "start_time": "2021-03-17T07:25:16.775012",
     "status": "completed"
    },
    "tags": []
   },
   "outputs": [
    {
     "data": {
      "application/javascript": [
       "parent.postMessage({\"jupyterEvent\": \"custom.exercise_interaction\", \"data\": {\"outcomeType\": 4, \"interactionType\": 1, \"questionType\": 1, \"questionId\": \"6_DescriptorCounts\", \"learnToolsVersion\": \"0.3.4\", \"valueTowardsCompletion\": 0.0, \"failureMessage\": \"\", \"exceptionClass\": \"\", \"trace\": \"\"}}, \"*\")"
      ],
      "text/plain": [
       "<IPython.core.display.Javascript object>"
      ]
     },
     "metadata": {},
     "output_type": "display_data"
    },
    {
     "data": {
      "text/markdown": [
       "<span style=\"color:#ccaa33\">Check:</span> When you've updated the starter code, `check()` will tell you whether your code is correct. You need to update the code that creates variable `descriptor_counts`"
      ],
      "text/plain": [
       "Check: When you've updated the starter code, `check()` will tell you whether your code is correct. You need to update the code that creates variable `descriptor_counts`"
      ]
     },
     "metadata": {},
     "output_type": "display_data"
    }
   ],
   "source": [
    "descriptor_counts = ____\n",
    "\n",
    "# Check your answer\n",
    "q6.check()"
   ]
  },
  {
   "cell_type": "code",
   "execution_count": 13,
   "id": "beginning-campus",
   "metadata": {
    "execution": {
     "iopub.execute_input": "2021-03-17T07:25:16.861786Z",
     "iopub.status.busy": "2021-03-17T07:25:16.861202Z",
     "iopub.status.idle": "2021-03-17T07:25:16.864222Z",
     "shell.execute_reply": "2021-03-17T07:25:16.864806Z"
    },
    "papermill": {
     "duration": 0.030922,
     "end_time": "2021-03-17T07:25:16.864988",
     "exception": false,
     "start_time": "2021-03-17T07:25:16.834066",
     "status": "completed"
    },
    "tags": []
   },
   "outputs": [],
   "source": [
    "#q6.hint()\n",
    "#q6.solution()"
   ]
  },
  {
   "cell_type": "markdown",
   "id": "exempt-seven",
   "metadata": {
    "papermill": {
     "duration": 0.024221,
     "end_time": "2021-03-17T07:25:16.913800",
     "exception": false,
     "start_time": "2021-03-17T07:25:16.889579",
     "status": "completed"
    },
    "tags": []
   },
   "source": [
    "## 7.\n",
    "We'd like to host these wine reviews on our website, but a rating system ranging from 80 to 100 points is too hard to understand - we'd like to translate them into simple star ratings. A score of 95 or higher counts as 3 stars, a score of at least 85 but less than 95 is 2 stars. Any other score is 1 star.\n",
    "\n",
    "Also, the Canadian Vintners Association bought a lot of ads on the site, so any wines from Canada should automatically get 3 stars, regardless of points.\n",
    "\n",
    "Create a series `star_ratings` with the number of stars corresponding to each review in the dataset."
   ]
  },
  {
   "cell_type": "code",
   "execution_count": 14,
   "id": "widespread-charm",
   "metadata": {
    "execution": {
     "iopub.execute_input": "2021-03-17T07:25:16.966719Z",
     "iopub.status.busy": "2021-03-17T07:25:16.966068Z",
     "iopub.status.idle": "2021-03-17T07:25:16.971872Z",
     "shell.execute_reply": "2021-03-17T07:25:16.972468Z"
    },
    "papermill": {
     "duration": 0.033832,
     "end_time": "2021-03-17T07:25:16.972627",
     "exception": false,
     "start_time": "2021-03-17T07:25:16.938795",
     "status": "completed"
    },
    "tags": []
   },
   "outputs": [
    {
     "data": {
      "application/javascript": [
       "parent.postMessage({\"jupyterEvent\": \"custom.exercise_interaction\", \"data\": {\"outcomeType\": 4, \"interactionType\": 1, \"questionType\": 1, \"questionId\": \"7_StarRatings\", \"learnToolsVersion\": \"0.3.4\", \"valueTowardsCompletion\": 0.0, \"failureMessage\": \"\", \"exceptionClass\": \"\", \"trace\": \"\"}}, \"*\")"
      ],
      "text/plain": [
       "<IPython.core.display.Javascript object>"
      ]
     },
     "metadata": {},
     "output_type": "display_data"
    },
    {
     "data": {
      "text/markdown": [
       "<span style=\"color:#ccaa33\">Check:</span> When you've updated the starter code, `check()` will tell you whether your code is correct. You need to update the code that creates variable `star_ratings`"
      ],
      "text/plain": [
       "Check: When you've updated the starter code, `check()` will tell you whether your code is correct. You need to update the code that creates variable `star_ratings`"
      ]
     },
     "metadata": {},
     "output_type": "display_data"
    }
   ],
   "source": [
    "star_ratings = ____\n",
    "\n",
    "# Check your answer\n",
    "q7.check()"
   ]
  },
  {
   "cell_type": "code",
   "execution_count": 15,
   "id": "billion-toyota",
   "metadata": {
    "execution": {
     "iopub.execute_input": "2021-03-17T07:25:17.027778Z",
     "iopub.status.busy": "2021-03-17T07:25:17.027198Z",
     "iopub.status.idle": "2021-03-17T07:25:17.030425Z",
     "shell.execute_reply": "2021-03-17T07:25:17.030988Z"
    },
    "papermill": {
     "duration": 0.032331,
     "end_time": "2021-03-17T07:25:17.031150",
     "exception": false,
     "start_time": "2021-03-17T07:25:16.998819",
     "status": "completed"
    },
    "tags": []
   },
   "outputs": [],
   "source": [
    "#q7.hint()\n",
    "#q7.solution()"
   ]
  },
  {
   "cell_type": "markdown",
   "id": "municipal-curtis",
   "metadata": {
    "papermill": {
     "duration": 0.026203,
     "end_time": "2021-03-17T07:25:17.083839",
     "exception": false,
     "start_time": "2021-03-17T07:25:17.057636",
     "status": "completed"
    },
    "tags": []
   },
   "source": [
    "# Keep going\n",
    "Continue to **[grouping and sorting](https://www.kaggle.com/residentmario/grouping-and-sorting)**."
   ]
  },
  {
   "cell_type": "markdown",
   "id": "structured-carter",
   "metadata": {
    "papermill": {
     "duration": 0.026094,
     "end_time": "2021-03-17T07:25:17.135896",
     "exception": false,
     "start_time": "2021-03-17T07:25:17.109802",
     "status": "completed"
    },
    "tags": []
   },
   "source": [
    "---\n",
    "\n",
    "\n",
    "\n",
    "\n",
    "*Have questions or comments? Visit the [Learn Discussion forum](https://www.kaggle.com/learn-forum/161299) to chat with other Learners.*"
   ]
  }
 ],
 "metadata": {
  "kernelspec": {
   "display_name": "Python 3",
   "language": "python",
   "name": "python3"
  },
  "language_info": {
   "codemirror_mode": {
    "name": "ipython",
    "version": 3
   },
   "file_extension": ".py",
   "mimetype": "text/x-python",
   "name": "python",
   "nbconvert_exporter": "python",
   "pygments_lexer": "ipython3",
   "version": "3.7.9"
  },
  "papermill": {
   "default_parameters": {},
   "duration": 16.345817,
   "end_time": "2021-03-17T07:25:17.772303",
   "environment_variables": {},
   "exception": null,
   "input_path": "__notebook__.ipynb",
   "output_path": "__notebook__.ipynb",
   "parameters": {},
   "start_time": "2021-03-17T07:25:01.426486",
   "version": "2.3.2"
  }
 },
 "nbformat": 4,
 "nbformat_minor": 5
}
