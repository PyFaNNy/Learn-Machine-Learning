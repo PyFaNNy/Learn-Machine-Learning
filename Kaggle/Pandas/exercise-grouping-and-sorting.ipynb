{
 "cells": [
  {
   "cell_type": "markdown",
   "metadata": {
    "papermill": {
     "duration": 0.015903,
     "end_time": "2021-03-18T12:58:10.080042",
     "exception": false,
     "start_time": "2021-03-18T12:58:10.064139",
     "status": "completed"
    },
    "tags": []
   },
   "source": [
    "**This notebook is an exercise in the [Pandas](https://www.kaggle.com/learn/pandas) course.  You can reference the tutorial at [this link](https://www.kaggle.com/residentmario/grouping-and-sorting).**\n",
    "\n",
    "---\n"
   ]
  },
  {
   "cell_type": "markdown",
   "metadata": {
    "papermill": {
     "duration": 0.013926,
     "end_time": "2021-03-18T12:58:10.109089",
     "exception": false,
     "start_time": "2021-03-18T12:58:10.095163",
     "status": "completed"
    },
    "tags": []
   },
   "source": [
    "# Introduction\n",
    "\n",
    "In these exercises we'll apply groupwise analysis to our dataset.\n",
    "\n",
    "Run the code cell below to load the data before running the exercises."
   ]
  },
  {
   "cell_type": "code",
   "execution_count": 1,
   "metadata": {
    "execution": {
     "iopub.execute_input": "2021-03-18T12:58:10.144346Z",
     "iopub.status.busy": "2021-03-18T12:58:10.143661Z",
     "iopub.status.idle": "2021-03-18T12:58:13.371367Z",
     "shell.execute_reply": "2021-03-18T12:58:13.371906Z"
    },
    "papermill": {
     "duration": 3.248771,
     "end_time": "2021-03-18T12:58:13.372224",
     "exception": false,
     "start_time": "2021-03-18T12:58:10.123453",
     "status": "completed"
    },
    "tags": []
   },
   "outputs": [
    {
     "name": "stdout",
     "output_type": "stream",
     "text": [
      "Setup complete.\n"
     ]
    }
   ],
   "source": [
    "import pandas as pd\n",
    "\n",
    "reviews = pd.read_csv(\"../input/wine-reviews/winemag-data-130k-v2.csv\", index_col=0)\n",
    "#pd.set_option(\"display.max_rows\", 5)\n",
    "\n",
    "from learntools.core import binder; binder.bind(globals())\n",
    "from learntools.pandas.grouping_and_sorting import *\n",
    "print(\"Setup complete.\")"
   ]
  },
  {
   "cell_type": "markdown",
   "metadata": {
    "papermill": {
     "duration": 0.013779,
     "end_time": "2021-03-18T12:58:13.400790",
     "exception": false,
     "start_time": "2021-03-18T12:58:13.387011",
     "status": "completed"
    },
    "tags": []
   },
   "source": [
    "# Exercises"
   ]
  },
  {
   "cell_type": "markdown",
   "metadata": {
    "papermill": {
     "duration": 0.013829,
     "end_time": "2021-03-18T12:58:13.428715",
     "exception": false,
     "start_time": "2021-03-18T12:58:13.414886",
     "status": "completed"
    },
    "tags": []
   },
   "source": [
    "## 1.\n",
    "Who are the most common wine reviewers in the dataset? Create a `Series` whose index is the `taster_twitter_handle` category from the dataset, and whose values count how many reviews each person wrote."
   ]
  },
  {
   "cell_type": "code",
   "execution_count": 2,
   "metadata": {
    "execution": {
     "iopub.execute_input": "2021-03-18T12:58:13.460672Z",
     "iopub.status.busy": "2021-03-18T12:58:13.460063Z",
     "iopub.status.idle": "2021-03-18T12:58:13.501106Z",
     "shell.execute_reply": "2021-03-18T12:58:13.500575Z"
    },
    "papermill": {
     "duration": 0.058297,
     "end_time": "2021-03-18T12:58:13.501241",
     "exception": false,
     "start_time": "2021-03-18T12:58:13.442944",
     "status": "completed"
    },
    "tags": []
   },
   "outputs": [
    {
     "data": {
      "application/javascript": [
       "parent.postMessage({\"jupyterEvent\": \"custom.exercise_interaction\", \"data\": {\"outcomeType\": 1, \"valueTowardsCompletion\": 0.16666666666666666, \"interactionType\": 1, \"questionType\": 1, \"questionId\": \"1_ReviewsWritten\", \"learnToolsVersion\": \"0.3.4\", \"failureMessage\": \"\", \"exceptionClass\": \"\", \"trace\": \"\"}}, \"*\")"
      ],
      "text/plain": [
       "<IPython.core.display.Javascript object>"
      ]
     },
     "metadata": {},
     "output_type": "display_data"
    },
    {
     "data": {
      "text/markdown": [
       "<span style=\"color:#33cc33\">Correct:</span> \n",
       "\n",
       "\n",
       "```python\n",
       "reviews_written = reviews.groupby('taster_twitter_handle').size()\n",
       "```\n",
       "or\n",
       "```python\n",
       "reviews_written = reviews.groupby('taster_twitter_handle').taster_twitter_handle.count()\n",
       "```\n"
      ],
      "text/plain": [
       "Correct: \n",
       "\n",
       "\n",
       "```python\n",
       "reviews_written = reviews.groupby('taster_twitter_handle').size()\n",
       "```\n",
       "or\n",
       "```python\n",
       "reviews_written = reviews.groupby('taster_twitter_handle').taster_twitter_handle.count()\n",
       "```"
      ]
     },
     "metadata": {},
     "output_type": "display_data"
    }
   ],
   "source": [
    "# Your code here\n",
    "reviews_written = reviews.groupby('taster_twitter_handle').taster_twitter_handle.count()\n",
    "\n",
    "# Check your answer\n",
    "q1.check()"
   ]
  },
  {
   "cell_type": "code",
   "execution_count": 3,
   "metadata": {
    "execution": {
     "iopub.execute_input": "2021-03-18T12:58:13.536807Z",
     "iopub.status.busy": "2021-03-18T12:58:13.536103Z",
     "iopub.status.idle": "2021-03-18T12:58:13.539197Z",
     "shell.execute_reply": "2021-03-18T12:58:13.538547Z"
    },
    "papermill": {
     "duration": 0.022601,
     "end_time": "2021-03-18T12:58:13.539333",
     "exception": false,
     "start_time": "2021-03-18T12:58:13.516732",
     "status": "completed"
    },
    "tags": []
   },
   "outputs": [],
   "source": [
    "#q1.hint()\n",
    "#q1.solution()"
   ]
  },
  {
   "cell_type": "markdown",
   "metadata": {
    "papermill": {
     "duration": 0.015388,
     "end_time": "2021-03-18T12:58:13.570208",
     "exception": false,
     "start_time": "2021-03-18T12:58:13.554820",
     "status": "completed"
    },
    "tags": []
   },
   "source": [
    "## 2.\n",
    "What is the best wine I can buy for a given amount of money? Create a `Series` whose index is wine prices and whose values is the maximum number of points a wine costing that much was given in a review. Sort the values by price, ascending (so that `4.0` dollars is at the top and `3300.0` dollars is at the bottom)."
   ]
  },
  {
   "cell_type": "code",
   "execution_count": 4,
   "metadata": {
    "execution": {
     "iopub.execute_input": "2021-03-18T12:58:13.608819Z",
     "iopub.status.busy": "2021-03-18T12:58:13.608108Z",
     "iopub.status.idle": "2021-03-18T12:58:13.618770Z",
     "shell.execute_reply": "2021-03-18T12:58:13.618208Z"
    },
    "papermill": {
     "duration": 0.031868,
     "end_time": "2021-03-18T12:58:13.618931",
     "exception": false,
     "start_time": "2021-03-18T12:58:13.587063",
     "status": "completed"
    },
    "tags": []
   },
   "outputs": [
    {
     "data": {
      "application/javascript": [
       "parent.postMessage({\"jupyterEvent\": \"custom.exercise_interaction\", \"data\": {\"outcomeType\": 1, \"valueTowardsCompletion\": 0.16666666666666666, \"interactionType\": 1, \"questionType\": 1, \"questionId\": \"2_BestRatingPerPrice\", \"learnToolsVersion\": \"0.3.4\", \"failureMessage\": \"\", \"exceptionClass\": \"\", \"trace\": \"\"}}, \"*\")"
      ],
      "text/plain": [
       "<IPython.core.display.Javascript object>"
      ]
     },
     "metadata": {},
     "output_type": "display_data"
    },
    {
     "data": {
      "text/markdown": [
       "<span style=\"color:#33cc33\">Correct</span>"
      ],
      "text/plain": [
       "Correct"
      ]
     },
     "metadata": {},
     "output_type": "display_data"
    }
   ],
   "source": [
    "best_rating_per_price = reviews.groupby('price').points.max()\n",
    "\n",
    "# Check your answer\n",
    "q2.check()"
   ]
  },
  {
   "cell_type": "code",
   "execution_count": 5,
   "metadata": {
    "execution": {
     "iopub.execute_input": "2021-03-18T12:58:13.655866Z",
     "iopub.status.busy": "2021-03-18T12:58:13.655251Z",
     "iopub.status.idle": "2021-03-18T12:58:13.658180Z",
     "shell.execute_reply": "2021-03-18T12:58:13.658771Z"
    },
    "papermill": {
     "duration": 0.022818,
     "end_time": "2021-03-18T12:58:13.658944",
     "exception": false,
     "start_time": "2021-03-18T12:58:13.636126",
     "status": "completed"
    },
    "tags": []
   },
   "outputs": [],
   "source": [
    "#q2.hint()\n",
    "#q2.solution()"
   ]
  },
  {
   "cell_type": "markdown",
   "metadata": {
    "papermill": {
     "duration": 0.016304,
     "end_time": "2021-03-18T12:58:13.691791",
     "exception": false,
     "start_time": "2021-03-18T12:58:13.675487",
     "status": "completed"
    },
    "tags": []
   },
   "source": [
    "## 3.\n",
    "What are the minimum and maximum prices for each `variety` of wine? Create a `DataFrame` whose index is the `variety` category from the dataset and whose values are the `min` and `max` values thereof."
   ]
  },
  {
   "cell_type": "code",
   "execution_count": 6,
   "metadata": {
    "execution": {
     "iopub.execute_input": "2021-03-18T12:58:13.728473Z",
     "iopub.status.busy": "2021-03-18T12:58:13.727814Z",
     "iopub.status.idle": "2021-03-18T12:58:13.764259Z",
     "shell.execute_reply": "2021-03-18T12:58:13.764793Z"
    },
    "papermill": {
     "duration": 0.056623,
     "end_time": "2021-03-18T12:58:13.764971",
     "exception": false,
     "start_time": "2021-03-18T12:58:13.708348",
     "status": "completed"
    },
    "tags": []
   },
   "outputs": [
    {
     "data": {
      "application/javascript": [
       "parent.postMessage({\"jupyterEvent\": \"custom.exercise_interaction\", \"data\": {\"outcomeType\": 1, \"valueTowardsCompletion\": 0.16666666666666666, \"interactionType\": 1, \"questionType\": 1, \"questionId\": \"3_PriceExtremes\", \"learnToolsVersion\": \"0.3.4\", \"failureMessage\": \"\", \"exceptionClass\": \"\", \"trace\": \"\"}}, \"*\")"
      ],
      "text/plain": [
       "<IPython.core.display.Javascript object>"
      ]
     },
     "metadata": {},
     "output_type": "display_data"
    },
    {
     "data": {
      "text/markdown": [
       "<span style=\"color:#33cc33\">Correct</span>"
      ],
      "text/plain": [
       "Correct"
      ]
     },
     "metadata": {},
     "output_type": "display_data"
    }
   ],
   "source": [
    "price_extremes = reviews.groupby('variety').price.agg([min, max])\n",
    "\n",
    "# Check your answer\n",
    "q3.check()"
   ]
  },
  {
   "cell_type": "code",
   "execution_count": 7,
   "metadata": {
    "execution": {
     "iopub.execute_input": "2021-03-18T12:58:13.804175Z",
     "iopub.status.busy": "2021-03-18T12:58:13.803455Z",
     "iopub.status.idle": "2021-03-18T12:58:13.806688Z",
     "shell.execute_reply": "2021-03-18T12:58:13.807180Z"
    },
    "papermill": {
     "duration": 0.024607,
     "end_time": "2021-03-18T12:58:13.807364",
     "exception": false,
     "start_time": "2021-03-18T12:58:13.782757",
     "status": "completed"
    },
    "tags": []
   },
   "outputs": [],
   "source": [
    "#q3.hint()\n",
    "#q3.solution()"
   ]
  },
  {
   "cell_type": "markdown",
   "metadata": {
    "papermill": {
     "duration": 0.017621,
     "end_time": "2021-03-18T12:58:13.842911",
     "exception": false,
     "start_time": "2021-03-18T12:58:13.825290",
     "status": "completed"
    },
    "tags": []
   },
   "source": [
    "## 4.\n",
    "What are the most expensive wine varieties? Create a variable `sorted_varieties` containing a copy of the dataframe from the previous question where varieties are sorted in descending order based on minimum price, then on maximum price (to break ties)."
   ]
  },
  {
   "cell_type": "code",
   "execution_count": 8,
   "metadata": {
    "execution": {
     "iopub.execute_input": "2021-03-18T12:58:13.884968Z",
     "iopub.status.busy": "2021-03-18T12:58:13.884268Z",
     "iopub.status.idle": "2021-03-18T12:58:13.892332Z",
     "shell.execute_reply": "2021-03-18T12:58:13.892856Z"
    },
    "papermill": {
     "duration": 0.032163,
     "end_time": "2021-03-18T12:58:13.893044",
     "exception": false,
     "start_time": "2021-03-18T12:58:13.860881",
     "status": "completed"
    },
    "tags": []
   },
   "outputs": [
    {
     "data": {
      "application/javascript": [
       "parent.postMessage({\"jupyterEvent\": \"custom.exercise_interaction\", \"data\": {\"outcomeType\": 1, \"valueTowardsCompletion\": 0.16666666666666666, \"interactionType\": 1, \"questionType\": 1, \"questionId\": \"4_SortedVarieties\", \"learnToolsVersion\": \"0.3.4\", \"failureMessage\": \"\", \"exceptionClass\": \"\", \"trace\": \"\"}}, \"*\")"
      ],
      "text/plain": [
       "<IPython.core.display.Javascript object>"
      ]
     },
     "metadata": {},
     "output_type": "display_data"
    },
    {
     "data": {
      "text/markdown": [
       "<span style=\"color:#33cc33\">Correct</span>"
      ],
      "text/plain": [
       "Correct"
      ]
     },
     "metadata": {},
     "output_type": "display_data"
    }
   ],
   "source": [
    "sorted_varieties =price_extremes.sort_values(by=['min', 'max'], ascending=False)  \n",
    "\n",
    "# Check your answer\n",
    "q4.check()"
   ]
  },
  {
   "cell_type": "code",
   "execution_count": 9,
   "metadata": {
    "execution": {
     "iopub.execute_input": "2021-03-18T12:58:13.936450Z",
     "iopub.status.busy": "2021-03-18T12:58:13.935459Z",
     "iopub.status.idle": "2021-03-18T12:58:13.937959Z",
     "shell.execute_reply": "2021-03-18T12:58:13.938382Z"
    },
    "papermill": {
     "duration": 0.02632,
     "end_time": "2021-03-18T12:58:13.938559",
     "exception": false,
     "start_time": "2021-03-18T12:58:13.912239",
     "status": "completed"
    },
    "tags": []
   },
   "outputs": [],
   "source": [
    "#q4.hint()\n",
    "#q4.solution()"
   ]
  },
  {
   "cell_type": "markdown",
   "metadata": {
    "papermill": {
     "duration": 0.019069,
     "end_time": "2021-03-18T12:58:13.977904",
     "exception": false,
     "start_time": "2021-03-18T12:58:13.958835",
     "status": "completed"
    },
    "tags": []
   },
   "source": [
    "## 5.\n",
    "Create a `Series` whose index is reviewers and whose values is the average review score given out by that reviewer. Hint: you will need the `taster_name` and `points` columns."
   ]
  },
  {
   "cell_type": "code",
   "execution_count": 10,
   "metadata": {
    "execution": {
     "iopub.execute_input": "2021-03-18T12:58:14.021107Z",
     "iopub.status.busy": "2021-03-18T12:58:14.020137Z",
     "iopub.status.idle": "2021-03-18T12:58:14.047583Z",
     "shell.execute_reply": "2021-03-18T12:58:14.048155Z"
    },
    "papermill": {
     "duration": 0.051375,
     "end_time": "2021-03-18T12:58:14.048355",
     "exception": false,
     "start_time": "2021-03-18T12:58:13.996980",
     "status": "completed"
    },
    "tags": []
   },
   "outputs": [
    {
     "data": {
      "application/javascript": [
       "parent.postMessage({\"jupyterEvent\": \"custom.exercise_interaction\", \"data\": {\"outcomeType\": 1, \"valueTowardsCompletion\": 0.16666666666666666, \"interactionType\": 1, \"questionType\": 1, \"questionId\": \"5_ReviewerMeanRatings\", \"learnToolsVersion\": \"0.3.4\", \"failureMessage\": \"\", \"exceptionClass\": \"\", \"trace\": \"\"}}, \"*\")"
      ],
      "text/plain": [
       "<IPython.core.display.Javascript object>"
      ]
     },
     "metadata": {},
     "output_type": "display_data"
    },
    {
     "data": {
      "text/markdown": [
       "<span style=\"color:#33cc33\">Correct</span>"
      ],
      "text/plain": [
       "Correct"
      ]
     },
     "metadata": {},
     "output_type": "display_data"
    }
   ],
   "source": [
    "reviewer_mean_ratings =reviews.groupby('taster_name').points.mean()\n",
    "\n",
    "# Check your answer\n",
    "q5.check()"
   ]
  },
  {
   "cell_type": "code",
   "execution_count": 11,
   "metadata": {
    "execution": {
     "iopub.execute_input": "2021-03-18T12:58:14.092050Z",
     "iopub.status.busy": "2021-03-18T12:58:14.091269Z",
     "iopub.status.idle": "2021-03-18T12:58:14.094396Z",
     "shell.execute_reply": "2021-03-18T12:58:14.094928Z"
    },
    "papermill": {
     "duration": 0.026545,
     "end_time": "2021-03-18T12:58:14.095099",
     "exception": false,
     "start_time": "2021-03-18T12:58:14.068554",
     "status": "completed"
    },
    "tags": []
   },
   "outputs": [],
   "source": [
    "#q5.hint()\n",
    "#q5.solution()"
   ]
  },
  {
   "cell_type": "markdown",
   "metadata": {
    "papermill": {
     "duration": 0.020226,
     "end_time": "2021-03-18T12:58:14.135682",
     "exception": false,
     "start_time": "2021-03-18T12:58:14.115456",
     "status": "completed"
    },
    "tags": []
   },
   "source": [
    "Are there significant differences in the average scores assigned by the various reviewers? Run the cell below to use the `describe()` method to see a summary of the range of values."
   ]
  },
  {
   "cell_type": "code",
   "execution_count": 12,
   "metadata": {
    "execution": {
     "iopub.execute_input": "2021-03-18T12:58:14.179170Z",
     "iopub.status.busy": "2021-03-18T12:58:14.178559Z",
     "iopub.status.idle": "2021-03-18T12:58:14.189115Z",
     "shell.execute_reply": "2021-03-18T12:58:14.188587Z"
    },
    "papermill": {
     "duration": 0.033414,
     "end_time": "2021-03-18T12:58:14.189256",
     "exception": false,
     "start_time": "2021-03-18T12:58:14.155842",
     "status": "completed"
    },
    "tags": []
   },
   "outputs": [
    {
     "data": {
      "text/plain": [
       "count    19.000000\n",
       "mean     88.233026\n",
       "std       1.243610\n",
       "min      85.855422\n",
       "25%      87.323501\n",
       "50%      88.536235\n",
       "75%      88.975256\n",
       "max      90.562551\n",
       "Name: points, dtype: float64"
      ]
     },
     "execution_count": 12,
     "metadata": {},
     "output_type": "execute_result"
    }
   ],
   "source": [
    "reviewer_mean_ratings.describe()"
   ]
  },
  {
   "cell_type": "markdown",
   "metadata": {
    "papermill": {
     "duration": 0.020652,
     "end_time": "2021-03-18T12:58:14.230910",
     "exception": false,
     "start_time": "2021-03-18T12:58:14.210258",
     "status": "completed"
    },
    "tags": []
   },
   "source": [
    "## 6.\n",
    "What combination of countries and varieties are most common? Create a `Series` whose index is a `MultiIndex`of `{country, variety}` pairs. For example, a pinot noir produced in the US should map to `{\"US\", \"Pinot Noir\"}`. Sort the values in the `Series` in descending order based on wine count."
   ]
  },
  {
   "cell_type": "code",
   "execution_count": 13,
   "metadata": {
    "execution": {
     "iopub.execute_input": "2021-03-18T12:58:14.294991Z",
     "iopub.status.busy": "2021-03-18T12:58:14.294078Z",
     "iopub.status.idle": "2021-03-18T12:58:14.325774Z",
     "shell.execute_reply": "2021-03-18T12:58:14.325172Z"
    },
    "papermill": {
     "duration": 0.074161,
     "end_time": "2021-03-18T12:58:14.325922",
     "exception": false,
     "start_time": "2021-03-18T12:58:14.251761",
     "status": "completed"
    },
    "tags": []
   },
   "outputs": [
    {
     "data": {
      "application/javascript": [
       "parent.postMessage({\"jupyterEvent\": \"custom.exercise_interaction\", \"data\": {\"outcomeType\": 1, \"valueTowardsCompletion\": 0.16666666666666666, \"interactionType\": 1, \"questionType\": 1, \"questionId\": \"6_GroupbyCountryVariety\", \"learnToolsVersion\": \"0.3.4\", \"failureMessage\": \"\", \"exceptionClass\": \"\", \"trace\": \"\"}}, \"*\")"
      ],
      "text/plain": [
       "<IPython.core.display.Javascript object>"
      ]
     },
     "metadata": {},
     "output_type": "display_data"
    },
    {
     "data": {
      "text/markdown": [
       "<span style=\"color:#33cc33\">Correct</span>"
      ],
      "text/plain": [
       "Correct"
      ]
     },
     "metadata": {},
     "output_type": "display_data"
    }
   ],
   "source": [
    "country_variety_counts = reviews.groupby(['country', 'variety']).size().sort_values(ascending=False)\n",
    "\n",
    "# Check your answer\n",
    "q6.check()"
   ]
  },
  {
   "cell_type": "code",
   "execution_count": 14,
   "metadata": {
    "execution": {
     "iopub.execute_input": "2021-03-18T12:58:14.383357Z",
     "iopub.status.busy": "2021-03-18T12:58:14.382754Z",
     "iopub.status.idle": "2021-03-18T12:58:14.386867Z",
     "shell.execute_reply": "2021-03-18T12:58:14.387470Z"
    },
    "papermill": {
     "duration": 0.036273,
     "end_time": "2021-03-18T12:58:14.387672",
     "exception": false,
     "start_time": "2021-03-18T12:58:14.351399",
     "status": "completed"
    },
    "tags": []
   },
   "outputs": [],
   "source": [
    "#q6.hint()\n",
    "#q6.solution()"
   ]
  },
  {
   "cell_type": "markdown",
   "metadata": {
    "papermill": {
     "duration": 0.026827,
     "end_time": "2021-03-18T12:58:14.442060",
     "exception": false,
     "start_time": "2021-03-18T12:58:14.415233",
     "status": "completed"
    },
    "tags": []
   },
   "source": [
    "# Keep going\n",
    "\n",
    "Move on to the [**data types and missing data**](https://www.kaggle.com/residentmario/data-types-and-missing-values)."
   ]
  },
  {
   "cell_type": "markdown",
   "metadata": {
    "papermill": {
     "duration": 0.024799,
     "end_time": "2021-03-18T12:58:14.492669",
     "exception": false,
     "start_time": "2021-03-18T12:58:14.467870",
     "status": "completed"
    },
    "tags": []
   },
   "source": [
    "---\n",
    "\n",
    "\n",
    "\n",
    "\n",
    "*Have questions or comments? Visit the [Learn Discussion forum](https://www.kaggle.com/learn-forum/161299) to chat with other Learners.*"
   ]
  }
 ],
 "metadata": {
  "kernelspec": {
   "display_name": "Python 3",
   "language": "python",
   "name": "python3"
  },
  "language_info": {
   "codemirror_mode": {
    "name": "ipython",
    "version": 3
   },
   "file_extension": ".py",
   "mimetype": "text/x-python",
   "name": "python",
   "nbconvert_exporter": "python",
   "pygments_lexer": "ipython3",
   "version": "3.7.9"
  },
  "papermill": {
   "default_parameters": {},
   "duration": 11.149311,
   "end_time": "2021-03-18T12:58:15.124179",
   "environment_variables": {},
   "exception": null,
   "input_path": "__notebook__.ipynb",
   "output_path": "__notebook__.ipynb",
   "parameters": {},
   "start_time": "2021-03-18T12:58:03.974868",
   "version": "2.2.2"
  }
 },
 "nbformat": 4,
 "nbformat_minor": 4
}
