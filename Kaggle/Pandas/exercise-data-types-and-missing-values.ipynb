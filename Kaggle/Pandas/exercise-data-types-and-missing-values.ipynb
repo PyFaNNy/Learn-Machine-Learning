{
 "cells": [
  {
   "cell_type": "markdown",
   "metadata": {
    "papermill": {
     "duration": 0.00894,
     "end_time": "2021-03-18T13:32:20.758229",
     "exception": false,
     "start_time": "2021-03-18T13:32:20.749289",
     "status": "completed"
    },
    "tags": []
   },
   "source": [
    "**This notebook is an exercise in the [Pandas](https://www.kaggle.com/learn/pandas) course.  You can reference the tutorial at [this link](https://www.kaggle.com/residentmario/data-types-and-missing-values).**\n",
    "\n",
    "---\n"
   ]
  },
  {
   "cell_type": "markdown",
   "metadata": {
    "papermill": {
     "duration": 0.007186,
     "end_time": "2021-03-18T13:32:20.773270",
     "exception": false,
     "start_time": "2021-03-18T13:32:20.766084",
     "status": "completed"
    },
    "tags": []
   },
   "source": [
    "# Introduction\n",
    "\n",
    "Run the following cell to load your data and some utility functions."
   ]
  },
  {
   "cell_type": "code",
   "execution_count": 1,
   "metadata": {
    "execution": {
     "iopub.execute_input": "2021-03-18T13:32:20.794557Z",
     "iopub.status.busy": "2021-03-18T13:32:20.793940Z",
     "iopub.status.idle": "2021-03-18T13:32:23.750147Z",
     "shell.execute_reply": "2021-03-18T13:32:23.749432Z"
    },
    "papermill": {
     "duration": 2.969585,
     "end_time": "2021-03-18T13:32:23.750356",
     "exception": false,
     "start_time": "2021-03-18T13:32:20.780771",
     "status": "completed"
    },
    "tags": []
   },
   "outputs": [
    {
     "name": "stdout",
     "output_type": "stream",
     "text": [
      "Setup complete.\n"
     ]
    }
   ],
   "source": [
    "import pandas as pd\n",
    "\n",
    "reviews = pd.read_csv(\"../input/wine-reviews/winemag-data-130k-v2.csv\", index_col=0)\n",
    "\n",
    "from learntools.core import binder; binder.bind(globals())\n",
    "from learntools.pandas.data_types_and_missing_data import *\n",
    "print(\"Setup complete.\")"
   ]
  },
  {
   "cell_type": "markdown",
   "metadata": {
    "papermill": {
     "duration": 0.00748,
     "end_time": "2021-03-18T13:32:23.766329",
     "exception": false,
     "start_time": "2021-03-18T13:32:23.758849",
     "status": "completed"
    },
    "tags": []
   },
   "source": [
    "# Exercises"
   ]
  },
  {
   "cell_type": "markdown",
   "metadata": {
    "papermill": {
     "duration": 0.007467,
     "end_time": "2021-03-18T13:32:23.781615",
     "exception": false,
     "start_time": "2021-03-18T13:32:23.774148",
     "status": "completed"
    },
    "tags": []
   },
   "source": [
    "## 1. \n",
    "What is the data type of the `points` column in the dataset?"
   ]
  },
  {
   "cell_type": "code",
   "execution_count": 2,
   "metadata": {
    "execution": {
     "iopub.execute_input": "2021-03-18T13:32:23.804633Z",
     "iopub.status.busy": "2021-03-18T13:32:23.803980Z",
     "iopub.status.idle": "2021-03-18T13:32:23.809649Z",
     "shell.execute_reply": "2021-03-18T13:32:23.809066Z"
    },
    "papermill": {
     "duration": 0.020426,
     "end_time": "2021-03-18T13:32:23.809834",
     "exception": false,
     "start_time": "2021-03-18T13:32:23.789408",
     "status": "completed"
    },
    "tags": []
   },
   "outputs": [
    {
     "data": {
      "application/javascript": [
       "parent.postMessage({\"jupyterEvent\": \"custom.exercise_interaction\", \"data\": {\"outcomeType\": 1, \"valueTowardsCompletion\": 0.25, \"interactionType\": 1, \"questionType\": 1, \"questionId\": \"1_PointsDtype\", \"learnToolsVersion\": \"0.3.4\", \"failureMessage\": \"\", \"exceptionClass\": \"\", \"trace\": \"\"}}, \"*\")"
      ],
      "text/plain": [
       "<IPython.core.display.Javascript object>"
      ]
     },
     "metadata": {},
     "output_type": "display_data"
    },
    {
     "data": {
      "text/markdown": [
       "<span style=\"color:#33cc33\">Correct</span>"
      ],
      "text/plain": [
       "Correct"
      ]
     },
     "metadata": {},
     "output_type": "display_data"
    }
   ],
   "source": [
    "# Your code here\n",
    "dtype = reviews.points.dtype\n",
    "\n",
    "# Check your answer\n",
    "q1.check()"
   ]
  },
  {
   "cell_type": "code",
   "execution_count": 3,
   "metadata": {
    "execution": {
     "iopub.execute_input": "2021-03-18T13:32:23.832604Z",
     "iopub.status.busy": "2021-03-18T13:32:23.831959Z",
     "iopub.status.idle": "2021-03-18T13:32:23.835379Z",
     "shell.execute_reply": "2021-03-18T13:32:23.834861Z"
    },
    "papermill": {
     "duration": 0.016452,
     "end_time": "2021-03-18T13:32:23.835514",
     "exception": false,
     "start_time": "2021-03-18T13:32:23.819062",
     "status": "completed"
    },
    "tags": []
   },
   "outputs": [],
   "source": [
    "#q1.hint()\n",
    "#q1.solution()"
   ]
  },
  {
   "cell_type": "markdown",
   "metadata": {
    "papermill": {
     "duration": 0.010256,
     "end_time": "2021-03-18T13:32:23.855635",
     "exception": false,
     "start_time": "2021-03-18T13:32:23.845379",
     "status": "completed"
    },
    "tags": []
   },
   "source": [
    "## 2. \n",
    "Create a Series from entries in the `points` column, but convert the entries to strings. Hint: strings are `str` in native Python."
   ]
  },
  {
   "cell_type": "code",
   "execution_count": 4,
   "metadata": {
    "execution": {
     "iopub.execute_input": "2021-03-18T13:32:23.967482Z",
     "iopub.status.busy": "2021-03-18T13:32:23.965764Z",
     "iopub.status.idle": "2021-03-18T13:32:23.974325Z",
     "shell.execute_reply": "2021-03-18T13:32:23.973822Z"
    },
    "papermill": {
     "duration": 0.105988,
     "end_time": "2021-03-18T13:32:23.974460",
     "exception": false,
     "start_time": "2021-03-18T13:32:23.868472",
     "status": "completed"
    },
    "tags": []
   },
   "outputs": [
    {
     "data": {
      "application/javascript": [
       "parent.postMessage({\"jupyterEvent\": \"custom.exercise_interaction\", \"data\": {\"outcomeType\": 1, \"valueTowardsCompletion\": 0.25, \"interactionType\": 1, \"questionType\": 1, \"questionId\": \"2_StrPoints\", \"learnToolsVersion\": \"0.3.4\", \"failureMessage\": \"\", \"exceptionClass\": \"\", \"trace\": \"\"}}, \"*\")"
      ],
      "text/plain": [
       "<IPython.core.display.Javascript object>"
      ]
     },
     "metadata": {},
     "output_type": "display_data"
    },
    {
     "data": {
      "text/markdown": [
       "<span style=\"color:#33cc33\">Correct</span>"
      ],
      "text/plain": [
       "Correct"
      ]
     },
     "metadata": {},
     "output_type": "display_data"
    }
   ],
   "source": [
    "point_strings = reviews.points.astype('str')\n",
    "\n",
    "# Check your answer\n",
    "q2.check()"
   ]
  },
  {
   "cell_type": "code",
   "execution_count": 5,
   "metadata": {
    "execution": {
     "iopub.execute_input": "2021-03-18T13:32:23.998749Z",
     "iopub.status.busy": "2021-03-18T13:32:23.998151Z",
     "iopub.status.idle": "2021-03-18T13:32:24.001105Z",
     "shell.execute_reply": "2021-03-18T13:32:24.000489Z"
    },
    "papermill": {
     "duration": 0.01651,
     "end_time": "2021-03-18T13:32:24.001242",
     "exception": false,
     "start_time": "2021-03-18T13:32:23.984732",
     "status": "completed"
    },
    "tags": []
   },
   "outputs": [],
   "source": [
    "#q2.hint()\n",
    "#q2.solution()"
   ]
  },
  {
   "cell_type": "markdown",
   "metadata": {
    "papermill": {
     "duration": 0.010046,
     "end_time": "2021-03-18T13:32:24.021416",
     "exception": false,
     "start_time": "2021-03-18T13:32:24.011370",
     "status": "completed"
    },
    "tags": []
   },
   "source": [
    "## 3.\n",
    "Sometimes the price column is null. How many reviews in the dataset are missing a price?"
   ]
  },
  {
   "cell_type": "code",
   "execution_count": 6,
   "metadata": {
    "execution": {
     "iopub.execute_input": "2021-03-18T13:32:24.048361Z",
     "iopub.status.busy": "2021-03-18T13:32:24.047480Z",
     "iopub.status.idle": "2021-03-18T13:32:24.054305Z",
     "shell.execute_reply": "2021-03-18T13:32:24.053732Z"
    },
    "papermill": {
     "duration": 0.021633,
     "end_time": "2021-03-18T13:32:24.054440",
     "exception": false,
     "start_time": "2021-03-18T13:32:24.032807",
     "status": "completed"
    },
    "tags": []
   },
   "outputs": [
    {
     "data": {
      "application/javascript": [
       "parent.postMessage({\"jupyterEvent\": \"custom.exercise_interaction\", \"data\": {\"outcomeType\": 1, \"valueTowardsCompletion\": 0.25, \"interactionType\": 1, \"questionType\": 1, \"questionId\": \"3_CountMissingPrices\", \"learnToolsVersion\": \"0.3.4\", \"failureMessage\": \"\", \"exceptionClass\": \"\", \"trace\": \"\"}}, \"*\")"
      ],
      "text/plain": [
       "<IPython.core.display.Javascript object>"
      ]
     },
     "metadata": {},
     "output_type": "display_data"
    },
    {
     "data": {
      "text/markdown": [
       "<span style=\"color:#33cc33\">Correct</span>"
      ],
      "text/plain": [
       "Correct"
      ]
     },
     "metadata": {},
     "output_type": "display_data"
    }
   ],
   "source": [
    "n_missing_prices = reviews.price.isnull().sum()\n",
    "\n",
    "# Check your answer\n",
    "q3.check()"
   ]
  },
  {
   "cell_type": "code",
   "execution_count": 7,
   "metadata": {
    "execution": {
     "iopub.execute_input": "2021-03-18T13:32:24.080731Z",
     "iopub.status.busy": "2021-03-18T13:32:24.080045Z",
     "iopub.status.idle": "2021-03-18T13:32:24.083134Z",
     "shell.execute_reply": "2021-03-18T13:32:24.082623Z"
    },
    "papermill": {
     "duration": 0.017674,
     "end_time": "2021-03-18T13:32:24.083268",
     "exception": false,
     "start_time": "2021-03-18T13:32:24.065594",
     "status": "completed"
    },
    "tags": []
   },
   "outputs": [],
   "source": [
    "#q3.hint()\n",
    "#q3.solution()"
   ]
  },
  {
   "cell_type": "markdown",
   "metadata": {
    "papermill": {
     "duration": 0.010585,
     "end_time": "2021-03-18T13:32:24.106414",
     "exception": false,
     "start_time": "2021-03-18T13:32:24.095829",
     "status": "completed"
    },
    "tags": []
   },
   "source": [
    "## 4.\n",
    "What are the most common wine-producing regions? Create a Series counting the number of times each value occurs in the `region_1` field. This field is often missing data, so replace missing values with `Unknown`. Sort in descending order.  Your output should look something like this:\n",
    "\n",
    "```\n",
    "Unknown                    21247\n",
    "Napa Valley                 4480\n",
    "                           ...  \n",
    "Bardolino Superiore            1\n",
    "Primitivo del Tarantino        1\n",
    "Name: region_1, Length: 1230, dtype: int64\n",
    "```"
   ]
  },
  {
   "cell_type": "code",
   "execution_count": 8,
   "metadata": {
    "execution": {
     "iopub.execute_input": "2021-03-18T13:32:24.139332Z",
     "iopub.status.busy": "2021-03-18T13:32:24.138578Z",
     "iopub.status.idle": "2021-03-18T13:32:24.185464Z",
     "shell.execute_reply": "2021-03-18T13:32:24.185907Z"
    },
    "papermill": {
     "duration": 0.068527,
     "end_time": "2021-03-18T13:32:24.186080",
     "exception": false,
     "start_time": "2021-03-18T13:32:24.117553",
     "status": "completed"
    },
    "tags": []
   },
   "outputs": [
    {
     "data": {
      "application/javascript": [
       "parent.postMessage({\"jupyterEvent\": \"custom.exercise_interaction\", \"data\": {\"outcomeType\": 1, \"valueTowardsCompletion\": 0.25, \"interactionType\": 1, \"questionType\": 2, \"questionId\": \"4_ReviewsPerRegion\", \"learnToolsVersion\": \"0.3.4\", \"failureMessage\": \"\", \"exceptionClass\": \"\", \"trace\": \"\"}}, \"*\")"
      ],
      "text/plain": [
       "<IPython.core.display.Javascript object>"
      ]
     },
     "metadata": {},
     "output_type": "display_data"
    },
    {
     "data": {
      "text/markdown": [
       "<span style=\"color:#33cc33\">Correct</span>"
      ],
      "text/plain": [
       "Correct"
      ]
     },
     "metadata": {},
     "output_type": "display_data"
    }
   ],
   "source": [
    "reviews.region_1 = reviews.region_1.fillna(\"Unknown\")\n",
    "reviews_per_region = reviews.region_1.value_counts().sort_values(ascending=False)\n",
    "\n",
    "# Check your answer\n",
    "q4.check()"
   ]
  },
  {
   "cell_type": "code",
   "execution_count": 9,
   "metadata": {
    "execution": {
     "iopub.execute_input": "2021-03-18T13:32:24.216057Z",
     "iopub.status.busy": "2021-03-18T13:32:24.215288Z",
     "iopub.status.idle": "2021-03-18T13:32:24.218264Z",
     "shell.execute_reply": "2021-03-18T13:32:24.217608Z"
    },
    "papermill": {
     "duration": 0.019829,
     "end_time": "2021-03-18T13:32:24.218394",
     "exception": false,
     "start_time": "2021-03-18T13:32:24.198565",
     "status": "completed"
    },
    "tags": []
   },
   "outputs": [],
   "source": [
    "#q4.hint()\n",
    "#q4.solution()"
   ]
  },
  {
   "cell_type": "markdown",
   "metadata": {
    "papermill": {
     "duration": 0.011929,
     "end_time": "2021-03-18T13:32:24.242428",
     "exception": false,
     "start_time": "2021-03-18T13:32:24.230499",
     "status": "completed"
    },
    "tags": []
   },
   "source": [
    "# Keep going\n",
    "\n",
    "Move on to **[renaming and combining](https://www.kaggle.com/residentmario/renaming-and-combining)**."
   ]
  },
  {
   "cell_type": "markdown",
   "metadata": {
    "papermill": {
     "duration": 0.011372,
     "end_time": "2021-03-18T13:32:24.266453",
     "exception": false,
     "start_time": "2021-03-18T13:32:24.255081",
     "status": "completed"
    },
    "tags": []
   },
   "source": [
    "---\n",
    "\n",
    "\n",
    "\n",
    "\n",
    "*Have questions or comments? Visit the [Learn Discussion forum](https://www.kaggle.com/learn-forum/161299) to chat with other Learners.*"
   ]
  }
 ],
 "metadata": {
  "kernelspec": {
   "display_name": "Python 3",
   "language": "python",
   "name": "python3"
  },
  "language_info": {
   "codemirror_mode": {
    "name": "ipython",
    "version": 3
   },
   "file_extension": ".py",
   "mimetype": "text/x-python",
   "name": "python",
   "nbconvert_exporter": "python",
   "pygments_lexer": "ipython3",
   "version": "3.7.9"
  },
  "papermill": {
   "default_parameters": {},
   "duration": 9.479043,
   "end_time": "2021-03-18T13:32:24.887171",
   "environment_variables": {},
   "exception": null,
   "input_path": "__notebook__.ipynb",
   "output_path": "__notebook__.ipynb",
   "parameters": {},
   "start_time": "2021-03-18T13:32:15.408128",
   "version": "2.2.2"
  }
 },
 "nbformat": 4,
 "nbformat_minor": 4
}
